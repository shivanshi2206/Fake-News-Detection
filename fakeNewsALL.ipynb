{
 "cells": [
  {
   "cell_type": "code",
   "execution_count": 3,
   "metadata": {
    "_cell_guid": "b1076dfc-b9ad-4769-8c92-a6c4dae69d19",
    "_uuid": "8f2839f25d086af736a60e9eeb907d3b93b6e0e5",
    "execution": {
     "iopub.execute_input": "2024-11-28T08:18:02.010035Z",
     "iopub.status.busy": "2024-11-28T08:18:02.009616Z",
     "iopub.status.idle": "2024-11-28T08:18:06.347489Z",
     "shell.execute_reply": "2024-11-28T08:18:06.346279Z",
     "shell.execute_reply.started": "2024-11-28T08:18:02.009998Z"
    },
    "trusted": true
   },
   "outputs": [],
   "source": [
    "# Import necessary libraries\n",
    "import numpy as np\n",
    "import pandas as pd\n",
    "import re\n",
    "from nltk.corpus import stopwords \n",
    "from nltk.stem.porter import PorterStemmer \n",
    "from sklearn.feature_extraction.text import TfidfVectorizer \n",
    "from sklearn.model_selection import train_test_split\n",
    "from sklearn.linear_model import LogisticRegression\n",
    "from sklearn.naive_bayes import MultinomialNB\n",
    "from sklearn.tree import DecisionTreeClassifier\n",
    "from sklearn.ensemble import RandomForestClassifier\n",
    "from sklearn.pipeline import Pipeline\n",
    "from sklearn.metrics import accuracy_score, confusion_matrix, classification_report\n",
    "import seaborn as sns\n",
    "import matplotlib.pyplot as plt\n",
    "import joblib\n",
    "import nltk\n",
    "import warnings\n",
    "warnings.filterwarnings('ignore')\n"
   ]
  },
  {
   "cell_type": "code",
   "execution_count": 4,
   "metadata": {},
   "outputs": [
    {
     "name": "stderr",
     "output_type": "stream",
     "text": [
      "[nltk_data] Downloading package stopwords to\n",
      "[nltk_data]     C:\\Users\\MY\\AppData\\Roaming\\nltk_data...\n",
      "[nltk_data]   Package stopwords is already up-to-date!\n"
     ]
    },
    {
     "data": {
      "text/plain": [
       "True"
      ]
     },
     "execution_count": 4,
     "metadata": {},
     "output_type": "execute_result"
    }
   ],
   "source": [
    "import nltk\n",
    "nltk.download('stopwords')"
   ]
  },
  {
   "cell_type": "code",
   "execution_count": 5,
   "metadata": {
    "execution": {
     "iopub.execute_input": "2024-11-28T08:18:06.350283Z",
     "iopub.status.busy": "2024-11-28T08:18:06.349769Z",
     "iopub.status.idle": "2024-11-28T08:18:12.747276Z",
     "shell.execute_reply": "2024-11-28T08:18:12.746303Z",
     "shell.execute_reply.started": "2024-11-28T08:18:06.350244Z"
    },
    "trusted": true
   },
   "outputs": [],
   "source": [
    "#reading the dataset\n",
    "df = pd.read_csv('C:/Users/MY/Downloads/WELFake_Dataset.csv/WELFake_Dataset.csv')"
   ]
  },
  {
   "cell_type": "code",
   "execution_count": 6,
   "metadata": {
    "execution": {
     "iopub.execute_input": "2024-11-28T08:18:12.748987Z",
     "iopub.status.busy": "2024-11-28T08:18:12.748610Z",
     "iopub.status.idle": "2024-11-28T08:18:12.756445Z",
     "shell.execute_reply": "2024-11-28T08:18:12.755366Z",
     "shell.execute_reply.started": "2024-11-28T08:18:12.748948Z"
    },
    "trusted": true
   },
   "outputs": [
    {
     "data": {
      "text/plain": [
       "(72134, 4)"
      ]
     },
     "execution_count": 6,
     "metadata": {},
     "output_type": "execute_result"
    }
   ],
   "source": [
    "df.shape"
   ]
  },
  {
   "cell_type": "code",
   "execution_count": 7,
   "metadata": {
    "execution": {
     "iopub.execute_input": "2024-11-28T08:18:12.758813Z",
     "iopub.status.busy": "2024-11-28T08:18:12.758464Z",
     "iopub.status.idle": "2024-11-28T08:18:12.787153Z",
     "shell.execute_reply": "2024-11-28T08:18:12.785950Z",
     "shell.execute_reply.started": "2024-11-28T08:18:12.758780Z"
    },
    "trusted": true
   },
   "outputs": [
    {
     "data": {
      "text/html": [
       "<div>\n",
       "<style scoped>\n",
       "    .dataframe tbody tr th:only-of-type {\n",
       "        vertical-align: middle;\n",
       "    }\n",
       "\n",
       "    .dataframe tbody tr th {\n",
       "        vertical-align: top;\n",
       "    }\n",
       "\n",
       "    .dataframe thead th {\n",
       "        text-align: right;\n",
       "    }\n",
       "</style>\n",
       "<table border=\"1\" class=\"dataframe\">\n",
       "  <thead>\n",
       "    <tr style=\"text-align: right;\">\n",
       "      <th></th>\n",
       "      <th>Unnamed: 0</th>\n",
       "      <th>title</th>\n",
       "      <th>text</th>\n",
       "      <th>label</th>\n",
       "    </tr>\n",
       "  </thead>\n",
       "  <tbody>\n",
       "    <tr>\n",
       "      <th>0</th>\n",
       "      <td>0</td>\n",
       "      <td>LAW ENFORCEMENT ON HIGH ALERT Following Threat...</td>\n",
       "      <td>No comment is expected from Barack Obama Membe...</td>\n",
       "      <td>1</td>\n",
       "    </tr>\n",
       "    <tr>\n",
       "      <th>1</th>\n",
       "      <td>1</td>\n",
       "      <td>NaN</td>\n",
       "      <td>Did they post their votes for Hillary already?</td>\n",
       "      <td>1</td>\n",
       "    </tr>\n",
       "    <tr>\n",
       "      <th>2</th>\n",
       "      <td>2</td>\n",
       "      <td>UNBELIEVABLE! OBAMA’S ATTORNEY GENERAL SAYS MO...</td>\n",
       "      <td>Now, most of the demonstrators gathered last ...</td>\n",
       "      <td>1</td>\n",
       "    </tr>\n",
       "    <tr>\n",
       "      <th>3</th>\n",
       "      <td>3</td>\n",
       "      <td>Bobby Jindal, raised Hindu, uses story of Chri...</td>\n",
       "      <td>A dozen politically active pastors came here f...</td>\n",
       "      <td>0</td>\n",
       "    </tr>\n",
       "    <tr>\n",
       "      <th>4</th>\n",
       "      <td>4</td>\n",
       "      <td>SATAN 2: Russia unvelis an image of its terrif...</td>\n",
       "      <td>The RS-28 Sarmat missile, dubbed Satan 2, will...</td>\n",
       "      <td>1</td>\n",
       "    </tr>\n",
       "  </tbody>\n",
       "</table>\n",
       "</div>"
      ],
      "text/plain": [
       "   Unnamed: 0                                              title  \\\n",
       "0           0  LAW ENFORCEMENT ON HIGH ALERT Following Threat...   \n",
       "1           1                                                NaN   \n",
       "2           2  UNBELIEVABLE! OBAMA’S ATTORNEY GENERAL SAYS MO...   \n",
       "3           3  Bobby Jindal, raised Hindu, uses story of Chri...   \n",
       "4           4  SATAN 2: Russia unvelis an image of its terrif...   \n",
       "\n",
       "                                                text  label  \n",
       "0  No comment is expected from Barack Obama Membe...      1  \n",
       "1     Did they post their votes for Hillary already?      1  \n",
       "2   Now, most of the demonstrators gathered last ...      1  \n",
       "3  A dozen politically active pastors came here f...      0  \n",
       "4  The RS-28 Sarmat missile, dubbed Satan 2, will...      1  "
      ]
     },
     "execution_count": 7,
     "metadata": {},
     "output_type": "execute_result"
    }
   ],
   "source": [
    "df.head()"
   ]
  },
  {
   "cell_type": "code",
   "execution_count": 8,
   "metadata": {
    "execution": {
     "iopub.execute_input": "2024-11-28T08:18:12.789378Z",
     "iopub.status.busy": "2024-11-28T08:18:12.788931Z",
     "iopub.status.idle": "2024-11-28T08:18:12.806291Z",
     "shell.execute_reply": "2024-11-28T08:18:12.805043Z",
     "shell.execute_reply.started": "2024-11-28T08:18:12.789329Z"
    },
    "trusted": true
   },
   "outputs": [],
   "source": [
    "# dropping irrelevant columns\n",
    "df.drop(columns=['Unnamed: 0'], axis = 1 ,inplace = True)"
   ]
  },
  {
   "cell_type": "code",
   "execution_count": 9,
   "metadata": {
    "execution": {
     "iopub.execute_input": "2024-11-28T08:18:12.809266Z",
     "iopub.status.busy": "2024-11-28T08:18:12.808031Z",
     "iopub.status.idle": "2024-11-28T08:18:12.825983Z",
     "shell.execute_reply": "2024-11-28T08:18:12.824796Z",
     "shell.execute_reply.started": "2024-11-28T08:18:12.809208Z"
    },
    "trusted": true
   },
   "outputs": [
    {
     "data": {
      "text/html": [
       "<div>\n",
       "<style scoped>\n",
       "    .dataframe tbody tr th:only-of-type {\n",
       "        vertical-align: middle;\n",
       "    }\n",
       "\n",
       "    .dataframe tbody tr th {\n",
       "        vertical-align: top;\n",
       "    }\n",
       "\n",
       "    .dataframe thead th {\n",
       "        text-align: right;\n",
       "    }\n",
       "</style>\n",
       "<table border=\"1\" class=\"dataframe\">\n",
       "  <thead>\n",
       "    <tr style=\"text-align: right;\">\n",
       "      <th></th>\n",
       "      <th>title</th>\n",
       "      <th>text</th>\n",
       "      <th>label</th>\n",
       "    </tr>\n",
       "  </thead>\n",
       "  <tbody>\n",
       "    <tr>\n",
       "      <th>0</th>\n",
       "      <td>LAW ENFORCEMENT ON HIGH ALERT Following Threat...</td>\n",
       "      <td>No comment is expected from Barack Obama Membe...</td>\n",
       "      <td>1</td>\n",
       "    </tr>\n",
       "    <tr>\n",
       "      <th>1</th>\n",
       "      <td>NaN</td>\n",
       "      <td>Did they post their votes for Hillary already?</td>\n",
       "      <td>1</td>\n",
       "    </tr>\n",
       "    <tr>\n",
       "      <th>2</th>\n",
       "      <td>UNBELIEVABLE! OBAMA’S ATTORNEY GENERAL SAYS MO...</td>\n",
       "      <td>Now, most of the demonstrators gathered last ...</td>\n",
       "      <td>1</td>\n",
       "    </tr>\n",
       "    <tr>\n",
       "      <th>3</th>\n",
       "      <td>Bobby Jindal, raised Hindu, uses story of Chri...</td>\n",
       "      <td>A dozen politically active pastors came here f...</td>\n",
       "      <td>0</td>\n",
       "    </tr>\n",
       "    <tr>\n",
       "      <th>4</th>\n",
       "      <td>SATAN 2: Russia unvelis an image of its terrif...</td>\n",
       "      <td>The RS-28 Sarmat missile, dubbed Satan 2, will...</td>\n",
       "      <td>1</td>\n",
       "    </tr>\n",
       "  </tbody>\n",
       "</table>\n",
       "</div>"
      ],
      "text/plain": [
       "                                               title  \\\n",
       "0  LAW ENFORCEMENT ON HIGH ALERT Following Threat...   \n",
       "1                                                NaN   \n",
       "2  UNBELIEVABLE! OBAMA’S ATTORNEY GENERAL SAYS MO...   \n",
       "3  Bobby Jindal, raised Hindu, uses story of Chri...   \n",
       "4  SATAN 2: Russia unvelis an image of its terrif...   \n",
       "\n",
       "                                                text  label  \n",
       "0  No comment is expected from Barack Obama Membe...      1  \n",
       "1     Did they post their votes for Hillary already?      1  \n",
       "2   Now, most of the demonstrators gathered last ...      1  \n",
       "3  A dozen politically active pastors came here f...      0  \n",
       "4  The RS-28 Sarmat missile, dubbed Satan 2, will...      1  "
      ]
     },
     "execution_count": 9,
     "metadata": {},
     "output_type": "execute_result"
    }
   ],
   "source": [
    "df.head()"
   ]
  },
  {
   "cell_type": "code",
   "execution_count": 10,
   "metadata": {
    "execution": {
     "iopub.execute_input": "2024-11-28T08:18:12.827865Z",
     "iopub.status.busy": "2024-11-28T08:18:12.827415Z",
     "iopub.status.idle": "2024-11-28T08:18:12.866493Z",
     "shell.execute_reply": "2024-11-28T08:18:12.865370Z",
     "shell.execute_reply.started": "2024-11-28T08:18:12.827815Z"
    },
    "trusted": true
   },
   "outputs": [
    {
     "data": {
      "text/plain": [
       "title    558\n",
       "text      39\n",
       "label      0\n",
       "dtype: int64"
      ]
     },
     "execution_count": 10,
     "metadata": {},
     "output_type": "execute_result"
    }
   ],
   "source": [
    "df.isnull().sum()"
   ]
  },
  {
   "cell_type": "code",
   "execution_count": 11,
   "metadata": {
    "execution": {
     "iopub.execute_input": "2024-11-28T08:18:12.868065Z",
     "iopub.status.busy": "2024-11-28T08:18:12.867706Z",
     "iopub.status.idle": "2024-11-28T08:18:12.916220Z",
     "shell.execute_reply": "2024-11-28T08:18:12.915123Z",
     "shell.execute_reply.started": "2024-11-28T08:18:12.868032Z"
    },
    "trusted": true
   },
   "outputs": [],
   "source": [
    "# replacing missing values with spaces\n",
    "df.fillna(' ', inplace = True)"
   ]
  },
  {
   "cell_type": "code",
   "execution_count": 12,
   "metadata": {
    "execution": {
     "iopub.execute_input": "2024-11-28T08:18:12.917892Z",
     "iopub.status.busy": "2024-11-28T08:18:12.917535Z",
     "iopub.status.idle": "2024-11-28T08:18:12.945938Z",
     "shell.execute_reply": "2024-11-28T08:18:12.944754Z",
     "shell.execute_reply.started": "2024-11-28T08:18:12.917857Z"
    },
    "trusted": true
   },
   "outputs": [
    {
     "data": {
      "text/plain": [
       "title    0\n",
       "text     0\n",
       "label    0\n",
       "dtype: int64"
      ]
     },
     "execution_count": 12,
     "metadata": {},
     "output_type": "execute_result"
    }
   ],
   "source": [
    "df.isnull().sum()"
   ]
  },
  {
   "cell_type": "code",
   "execution_count": 13,
   "metadata": {
    "execution": {
     "iopub.execute_input": "2024-11-28T08:18:12.949315Z",
     "iopub.status.busy": "2024-11-28T08:18:12.948885Z",
     "iopub.status.idle": "2024-11-28T08:18:13.242117Z",
     "shell.execute_reply": "2024-11-28T08:18:13.240999Z",
     "shell.execute_reply.started": "2024-11-28T08:18:12.949282Z"
    },
    "trusted": true
   },
   "outputs": [
    {
     "data": {
      "image/png": "[encoded data removed]",
      "text/plain": [
       "<Figure size 640x480 with 1 Axes>"
      ]
     },
     "metadata": {},
     "output_type": "display_data"
    }
   ],
   "source": [
    "sns.countplot(x = 'label', data = df,palette = 'magma')\n",
    "plt.show()"
   ]
  },
  {
   "cell_type": "code",
   "execution_count": 14,
   "metadata": {
    "execution": {
     "iopub.execute_input": "2024-11-28T08:18:13.244203Z",
     "iopub.status.busy": "2024-11-28T08:18:13.243732Z",
     "iopub.status.idle": "2024-11-28T08:18:13.249970Z",
     "shell.execute_reply": "2024-11-28T08:18:13.248770Z",
     "shell.execute_reply.started": "2024-11-28T08:18:13.244152Z"
    },
    "trusted": true
   },
   "outputs": [],
   "source": [
    "portStemmer=PorterStemmer()"
   ]
  },
  {
   "cell_type": "code",
   "execution_count": 15,
   "metadata": {
    "execution": {
     "iopub.execute_input": "2024-11-28T08:18:13.251721Z",
     "iopub.status.busy": "2024-11-28T08:18:13.251362Z",
     "iopub.status.idle": "2024-11-28T08:18:13.262304Z",
     "shell.execute_reply": "2024-11-28T08:18:13.261194Z",
     "shell.execute_reply.started": "2024-11-28T08:18:13.251686Z"
    },
    "trusted": true
   },
   "outputs": [],
   "source": [
    "def stemming(content):\n",
    "    content = str(content)\n",
    "    stemmed_content = re.sub('[^a-zA-Z]', ' ', content)\n",
    "    stemmed_content = stemmed_content.lower()\n",
    "    stemmed_content = stemmed_content.split()\n",
    "    stemmed_content = [portStemmer.stem(word) for word in stemmed_content if word not in stopwords.words('english')]\n",
    "    stemmed_content = ' '.join(stemmed_content)\n",
    "    return stemmed_content"
   ]
  },
  {
   "cell_type": "code",
   "execution_count": null,
   "metadata": {
    "execution": {
     "iopub.execute_input": "2024-11-28T08:18:13.264395Z",
     "iopub.status.busy": "2024-11-28T08:18:13.263946Z",
     "iopub.status.idle": "2024-11-28T08:20:12.885459Z",
     "shell.execute_reply": "2024-11-28T08:20:12.884273Z",
     "shell.execute_reply.started": "2024-11-28T08:18:13.264346Z"
    },
    "trusted": true
   },
   "outputs": [],
   "source": [
    "# stemming the title column\n",
    "df['title']=df['title'].apply(stemming)"
   ]
  },
  {
   "cell_type": "code",
   "execution_count": 15,
   "metadata": {
    "execution": {
     "iopub.execute_input": "2024-11-28T08:20:12.887244Z",
     "iopub.status.busy": "2024-11-28T08:20:12.886872Z",
     "iopub.status.idle": "2024-11-28T08:20:12.896152Z",
     "shell.execute_reply": "2024-11-28T08:20:12.895014Z",
     "shell.execute_reply.started": "2024-11-28T08:20:12.887204Z"
    },
    "trusted": true
   },
   "outputs": [
    {
     "data": {
      "text/plain": [
       "0    law enforc high alert follow threat cop white ...\n",
       "1                                                     \n",
       "2    unbeliev obama attorney gener say charlott rio...\n",
       "3    bobbi jindal rais hindu use stori christian co...\n",
       "4    satan russia unv imag terrifi new supernuk wes...\n",
       "Name: title, dtype: object"
      ]
     },
     "execution_count": 15,
     "metadata": {},
     "output_type": "execute_result"
    }
   ],
   "source": [
    "df['title'].head(5)"
   ]
  },
  {
   "cell_type": "code",
   "execution_count": 16,
   "metadata": {
    "execution": {
     "iopub.execute_input": "2024-11-28T08:20:12.898480Z",
     "iopub.status.busy": "2024-11-28T08:20:12.898008Z",
     "iopub.status.idle": "2024-11-28T08:20:12.920662Z",
     "shell.execute_reply": "2024-11-28T08:20:12.919395Z",
     "shell.execute_reply.started": "2024-11-28T08:20:12.898430Z"
    },
    "trusted": true
   },
   "outputs": [],
   "source": [
    "df.drop(columns=('text'),inplace=True)"
   ]
  },
  {
   "cell_type": "code",
   "execution_count": 17,
   "metadata": {
    "execution": {
     "iopub.execute_input": "2024-11-28T08:20:12.922550Z",
     "iopub.status.busy": "2024-11-28T08:20:12.922191Z",
     "iopub.status.idle": "2024-11-28T08:20:12.936105Z",
     "shell.execute_reply": "2024-11-28T08:20:12.934972Z",
     "shell.execute_reply.started": "2024-11-28T08:20:12.922512Z"
    },
    "trusted": true
   },
   "outputs": [
    {
     "data": {
      "text/html": [
       "<div>\n",
       "<style scoped>\n",
       "    .dataframe tbody tr th:only-of-type {\n",
       "        vertical-align: middle;\n",
       "    }\n",
       "\n",
       "    .dataframe tbody tr th {\n",
       "        vertical-align: top;\n",
       "    }\n",
       "\n",
       "    .dataframe thead th {\n",
       "        text-align: right;\n",
       "    }\n",
       "</style>\n",
       "<table border=\"1\" class=\"dataframe\">\n",
       "  <thead>\n",
       "    <tr style=\"text-align: right;\">\n",
       "      <th></th>\n",
       "      <th>title</th>\n",
       "      <th>label</th>\n",
       "    </tr>\n",
       "  </thead>\n",
       "  <tbody>\n",
       "    <tr>\n",
       "      <th>0</th>\n",
       "      <td>law enforc high alert follow threat cop white ...</td>\n",
       "      <td>1</td>\n",
       "    </tr>\n",
       "    <tr>\n",
       "      <th>1</th>\n",
       "      <td></td>\n",
       "      <td>1</td>\n",
       "    </tr>\n",
       "    <tr>\n",
       "      <th>2</th>\n",
       "      <td>unbeliev obama attorney gener say charlott rio...</td>\n",
       "      <td>1</td>\n",
       "    </tr>\n",
       "    <tr>\n",
       "      <th>3</th>\n",
       "      <td>bobbi jindal rais hindu use stori christian co...</td>\n",
       "      <td>0</td>\n",
       "    </tr>\n",
       "    <tr>\n",
       "      <th>4</th>\n",
       "      <td>satan russia unv imag terrifi new supernuk wes...</td>\n",
       "      <td>1</td>\n",
       "    </tr>\n",
       "  </tbody>\n",
       "</table>\n",
       "</div>"
      ],
      "text/plain": [
       "                                               title  label\n",
       "0  law enforc high alert follow threat cop white ...      1\n",
       "1                                                         1\n",
       "2  unbeliev obama attorney gener say charlott rio...      1\n",
       "3  bobbi jindal rais hindu use stori christian co...      0\n",
       "4  satan russia unv imag terrifi new supernuk wes...      1"
      ]
     },
     "execution_count": 17,
     "metadata": {},
     "output_type": "execute_result"
    }
   ],
   "source": [
    "df.head()"
   ]
  },
  {
   "cell_type": "code",
   "execution_count": null,
   "metadata": {
    "execution": {
     "iopub.execute_input": "2024-11-28T08:20:35.192447Z",
     "iopub.status.busy": "2024-11-28T08:20:35.192069Z",
     "iopub.status.idle": "2024-11-28T08:20:35.198839Z",
     "shell.execute_reply": "2024-11-28T08:20:35.197457Z",
     "shell.execute_reply.started": "2024-11-28T08:20:35.192416Z"
    },
    "trusted": true
   },
   "outputs": [],
   "source": [
    "# Segregating feature and Target\n",
    "X=df['title'].values\n",
    "y=df['label'].values"
   ]
  },
  {
   "cell_type": "code",
   "execution_count": null,
   "metadata": {
    "execution": {
     "iopub.execute_input": "2024-11-28T08:20:36.272080Z",
     "iopub.status.busy": "2024-11-28T08:20:36.271619Z",
     "iopub.status.idle": "2024-11-28T08:20:37.707845Z",
     "shell.execute_reply": "2024-11-28T08:20:37.706834Z",
     "shell.execute_reply.started": "2024-11-28T08:20:36.272042Z"
    },
    "trusted": true
   },
   "outputs": [],
   "source": [
    "vectorizer=TfidfVectorizer()\n",
    "vectorizer.fit(X)\n",
    "\n",
    "X=vectorizer.transform(X)"
   ]
  },
  {
   "cell_type": "code",
   "execution_count": 20,
   "metadata": {
    "execution": {
     "iopub.execute_input": "2024-11-28T08:20:37.710068Z",
     "iopub.status.busy": "2024-11-28T08:20:37.709707Z",
     "iopub.status.idle": "2024-11-28T08:20:37.722951Z",
     "shell.execute_reply": "2024-11-28T08:20:37.721721Z",
     "shell.execute_reply.started": "2024-11-28T08:20:37.710035Z"
    },
    "trusted": true
   },
   "outputs": [
    {
     "name": "stdout",
     "output_type": "stream",
     "text": [
      "<Compressed Sparse Row sparse matrix of dtype 'float64'\n",
      "\twith 629110 stored elements and shape (72134, 19639)>\n",
      "  Coords\tValues\n",
      "  (0, 407)\t0.3190180925014663\n",
      "  (0, 1802)\t0.33473541566384035\n",
      "  (0, 3679)\t0.24871262252022117\n",
      "  (0, 5509)\t0.31820565801047196\n",
      "  (0, 6425)\t0.28932771754845743\n",
      "  (0, 6730)\t0.48553136502134386\n",
      "  (0, 7887)\t0.26746434949988324\n",
      "  (0, 9699)\t0.22829788917209384\n",
      "  (0, 17260)\t0.24871262252022117\n",
      "  (0, 17363)\t0.2542650376115143\n",
      "  (0, 18648)\t0.1297506867782943\n",
      "  (0, 19106)\t0.19134939529376566\n",
      "  (2, 1049)\t0.28404017886581956\n",
      "  (2, 2673)\t0.30809679188606154\n",
      "  (2, 2919)\t0.3639616996972358\n",
      "  (2, 6880)\t0.2652283770602196\n",
      "  (2, 8020)\t0.2692285294185893\n",
      "  (2, 11864)\t0.2231406266784195\n",
      "  (2, 12011)\t0.16878852994653004\n",
      "  (2, 12744)\t0.27904818164471595\n",
      "  (2, 13591)\t0.22687620695463123\n",
      "  (2, 14591)\t0.3580030298678158\n",
      "  (2, 15094)\t0.1609967301122813\n",
      "  (2, 16446)\t0.1999703023632961\n",
      "  (2, 18034)\t0.35962437110547785\n",
      "  :\t:\n",
      "  (72130, 17778)\t0.13227219506940732\n",
      "  (72130, 18936)\t0.25302499393443006\n",
      "  (72131, 2566)\t0.3967249021272091\n",
      "  (72131, 8206)\t0.46269177743112333\n",
      "  (72131, 9752)\t0.3384827653769501\n",
      "  (72131, 10933)\t0.35527231533143033\n",
      "  (72131, 14182)\t0.32391500471431983\n",
      "  (72131, 14186)\t0.3534104623564766\n",
      "  (72131, 17617)\t0.39738745004026604\n",
      "  (72132, 873)\t0.3038308430269035\n",
      "  (72132, 7003)\t0.2582870894160619\n",
      "  (72132, 9731)\t0.24522811865098657\n",
      "  (72132, 10871)\t0.3272655004229104\n",
      "  (72132, 11350)\t0.32005174915301016\n",
      "  (72132, 11617)\t0.2703806807329965\n",
      "  (72132, 15632)\t0.30543362821165165\n",
      "  (72132, 17778)\t0.10874560860578947\n",
      "  (72132, 17906)\t0.4674560433180039\n",
      "  (72132, 18264)\t0.417810680338284\n",
      "  (72133, 3245)\t0.26228453414449976\n",
      "  (72133, 5498)\t0.4224992179824501\n",
      "  (72133, 7103)\t0.5410264267527618\n",
      "  (72133, 7904)\t0.2573590839479994\n",
      "  (72133, 13427)\t0.29001763267842906\n",
      "  (72133, 14901)\t0.5564599843232266\n"
     ]
    }
   ],
   "source": [
    "print(X)"
   ]
  },
  {
   "cell_type": "code",
   "execution_count": 21,
   "metadata": {
    "execution": {
     "iopub.execute_input": "2024-11-28T08:20:37.725436Z",
     "iopub.status.busy": "2024-11-28T08:20:37.724964Z",
     "iopub.status.idle": "2024-11-28T08:20:37.762769Z",
     "shell.execute_reply": "2024-11-28T08:20:37.761775Z",
     "shell.execute_reply.started": "2024-11-28T08:20:37.725383Z"
    },
    "trusted": true
   },
   "outputs": [],
   "source": [
    "X_train,X_test,y_train,y_test=train_test_split(X,y,test_size=0.2,stratify=y,random_state=42)"
   ]
  },
  {
   "cell_type": "code",
   "execution_count": 22,
   "metadata": {},
   "outputs": [
    {
     "name": "stdout",
     "output_type": "stream",
     "text": [
      "MultinomialNB: 87.14\n"
     ]
    },
    {
     "data": {
      "image/png": "[encoded data removed]",
      "text/plain": [
       "<Figure size 640x480 with 2 Axes>"
      ]
     },
     "metadata": {},
     "output_type": "display_data"
    },
    {
     "name": "stdout",
     "output_type": "stream",
     "text": [
      "              precision    recall  f1-score   support\n",
      "\n",
      "           0       0.87      0.86      0.87      7006\n",
      "           1       0.87      0.88      0.88      7421\n",
      "\n",
      "    accuracy                           0.87     14427\n",
      "   macro avg       0.87      0.87      0.87     14427\n",
      "weighted avg       0.87      0.87      0.87     14427\n",
      "\n",
      "Saved pipeline for MultinomialNB to MultinomialNB_pipeline.pkl\n",
      "------------------------------\n",
      "LogisticRegression: 89.53\n"
     ]
    },
    {
     "data": {
      "image/png": "[encoded data removed]",
      "text/plain": [
       "<Figure size 640x480 with 2 Axes>"
      ]
     },
     "metadata": {},
     "output_type": "display_data"
    },
    {
     "name": "stdout",
     "output_type": "stream",
     "text": [
      "              precision    recall  f1-score   support\n",
      "\n",
      "           0       0.90      0.88      0.89      7006\n",
      "           1       0.89      0.91      0.90      7421\n",
      "\n",
      "    accuracy                           0.90     14427\n",
      "   macro avg       0.90      0.89      0.90     14427\n",
      "weighted avg       0.90      0.90      0.90     14427\n",
      "\n",
      "Saved pipeline for LogisticRegression to LogisticRegression_pipeline.pkl\n",
      "------------------------------\n",
      "DecisionTreeClassifier: 86.70\n"
     ]
    },
    {
     "data": {
      "image/png": "[encoded data removed]",
      "text/plain": [
       "<Figure size 640x480 with 2 Axes>"
      ]
     },
     "metadata": {},
     "output_type": "display_data"
    },
    {
     "name": "stdout",
     "output_type": "stream",
     "text": [
      "              precision    recall  f1-score   support\n",
      "\n",
      "           0       0.87      0.86      0.86      7006\n",
      "           1       0.87      0.88      0.87      7421\n",
      "\n",
      "    accuracy                           0.87     14427\n",
      "   macro avg       0.87      0.87      0.87     14427\n",
      "weighted avg       0.87      0.87      0.87     14427\n",
      "\n",
      "Saved pipeline for DecisionTreeClassifier to DecisionTreeClassifier_pipeline.pkl\n",
      "------------------------------\n",
      "RandomForestClassifier: 90.34\n"
     ]
    },
    {
     "data": {
      "image/png": "[encoded data removed]",
      "text/plain": [
       "<Figure size 640x480 with 2 Axes>"
      ]
     },
     "metadata": {},
     "output_type": "display_data"
    },
    {
     "name": "stdout",
     "output_type": "stream",
     "text": [
      "              precision    recall  f1-score   support\n",
      "\n",
      "           0       0.91      0.89      0.90      7006\n",
      "           1       0.90      0.91      0.91      7421\n",
      "\n",
      "    accuracy                           0.90     14427\n",
      "   macro avg       0.90      0.90      0.90     14427\n",
      "weighted avg       0.90      0.90      0.90     14427\n",
      "\n",
      "Saved pipeline for RandomForestClassifier to RandomForestClassifier_pipeline.pkl\n",
      "------------------------------\n"
     ]
    }
   ],
   "source": [
    "models = [\n",
    "    MultinomialNB(),\n",
    "    LogisticRegression(),\n",
    "    DecisionTreeClassifier(),\n",
    "    RandomForestClassifier()\n",
    "]\n",
    "\n",
    "for model in models:\n",
    "    model.fit(X_train,y_train)\n",
    "    y_pred=model.predict(X_test)\n",
    "    accuracy=accuracy_score(y_pred,y_test)\n",
    "    print(f\"{model.__class__.__name__}: {accuracy*100:.2f}\")\n",
    "    sns.heatmap(confusion_matrix(y_test,y_pred),annot = True, cmap = 'coolwarm',fmt = '.1f')\n",
    "    plt.show()\n",
    "    print(classification_report(y_test,y_pred))\n",
    "    # Save the model with preprocessing steps in a pipeline\n",
    "    pipeline = Pipeline([\n",
    "        ('vectorizer', TfidfVectorizer()),  # Preprocessing step\n",
    "        ('classifier', model)  # Classification model\n",
    "    ])\n",
    "    \n",
    "    pipeline.fit(df['title'], y)  # Fit pipeline on full data\n",
    "    \n",
    "    # Save pipeline\n",
    "    model_filename = f\"{model.__class__.__name__}_pipeline.pkl\"\n",
    "    joblib.dump(pipeline, model_filename)\n",
    "    print(f\"Saved pipeline for {model.__class__.__name__} to {model_filename}\")\n",
    "    print(\"-\" * 30)\n"
   ]
  },
  {
   "cell_type": "code",
   "execution_count": 2,
   "metadata": {},
   "outputs": [
    {
     "ename": "NameError",
     "evalue": "name 're' is not defined",
     "output_type": "error",
     "traceback": [
      "\u001b[1;31m---------------------------------------------------------------------------\u001b[0m",
      "\u001b[1;31mNameError\u001b[0m                                 Traceback (most recent call last)",
      "Cell \u001b[1;32mIn[2], line 12\u001b[0m\n\u001b[0;32m      3\u001b[0m \u001b[38;5;66;03m# Input text to test\u001b[39;00m\n\u001b[0;32m      4\u001b[0m f \u001b[38;5;241m=\u001b[39m \u001b[38;5;124m'''\u001b[39m\u001b[38;5;124mIs the earth flat?\u001b[39m\n\u001b[0;32m      5\u001b[0m \u001b[38;5;124mA flat earth was once a commonly held belief, it persisted in some areas until the middle ages. Definitive proof of a spherical earth did not come until  Ferdinand Magellan successfully traveled around the earth (1519-1521). However this belief was challenged much earlier thanks to major advancements in ancient Greek astronomy.\u001b[39m\n\u001b[0;32m      6\u001b[0m \n\u001b[1;32m   (...)\u001b[0m\n\u001b[0;32m      9\u001b[0m \n\u001b[0;32m     10\u001b[0m \u001b[38;5;124mAnother way to prove that the earth is spherical came from Eratosthenes (276–194 BC). His method involves looking at the shadows cast by the sun on the surface of the earth. This is the basis for a sundial:\u001b[39m\u001b[38;5;124m'''\u001b[39m\n\u001b[1;32m---> 12\u001b[0m f_stem\u001b[38;5;241m=\u001b[39m\u001b[43mstemming\u001b[49m\u001b[43m(\u001b[49m\u001b[43mf\u001b[49m\u001b[43m)\u001b[49m\n\u001b[0;32m     13\u001b[0m f_vec\u001b[38;5;241m=\u001b[39mvectorizer\u001b[38;5;241m.\u001b[39mtransform([f_stem])\n\u001b[0;32m     14\u001b[0m \u001b[38;5;28mprint\u001b[39m(f_vec)\n",
      "Cell \u001b[1;32mIn[1], line 3\u001b[0m, in \u001b[0;36mstemming\u001b[1;34m(content)\u001b[0m\n\u001b[0;32m      1\u001b[0m \u001b[38;5;28;01mdef\u001b[39;00m \u001b[38;5;21mstemming\u001b[39m(content):\n\u001b[0;32m      2\u001b[0m     content \u001b[38;5;241m=\u001b[39m \u001b[38;5;28mstr\u001b[39m(content)\n\u001b[1;32m----> 3\u001b[0m     stemmed_content \u001b[38;5;241m=\u001b[39m \u001b[43mre\u001b[49m\u001b[38;5;241m.\u001b[39msub(\u001b[38;5;124m'\u001b[39m\u001b[38;5;124m[^a-zA-Z]\u001b[39m\u001b[38;5;124m'\u001b[39m, \u001b[38;5;124m'\u001b[39m\u001b[38;5;124m \u001b[39m\u001b[38;5;124m'\u001b[39m, content)\n\u001b[0;32m      4\u001b[0m     stemmed_content \u001b[38;5;241m=\u001b[39m stemmed_content\u001b[38;5;241m.\u001b[39mlower()\n\u001b[0;32m      5\u001b[0m     stemmed_content \u001b[38;5;241m=\u001b[39m stemmed_content\u001b[38;5;241m.\u001b[39msplit()\n",
      "\u001b[1;31mNameError\u001b[0m: name 're' is not defined"
     ]
    }
   ],
   "source": [
    "import joblib\n",
    "\n",
    "# Input text to test\n",
    "f = '''Is the earth flat?\n",
    "A flat earth was once a commonly held belief, it persisted in some areas until the middle ages. Definitive proof of a spherical earth did not come until  Ferdinand Magellan successfully traveled around the earth (1519-1521). However this belief was challenged much earlier thanks to major advancements in ancient Greek astronomy.\n",
    "\n",
    "The image depicts a man crawling under the edge of the sky, as if it were a solid hemisphere. This image first appeared in Camille Flammarion's L'atmosphère: météorologie populaire (1888) Image Credit: Heikenwaelder Hug\n",
    "Plato (427–347 BC) was convinced that the earth was spherical: \"My conviction is that the earth is a round body in the centre of the heavens...Also I believe the Earth is very vast\". Significantly, he could not prove this was the case. It was his prized student Aristotle who began offering evidence for a spherical earth. One of his more convincing pieces of evidence was the shape of the earth’s shadow visible during a Lunar Eclipse. Notice the subtle curvature of the shadow cast on the moon:\n",
    "\n",
    "Another way to prove that the earth is spherical came from Eratosthenes (276–194 BC). His method involves looking at the shadows cast by the sun on the surface of the earth. This is the basis for a sundial:'''\n",
    "\n",
    "f_stem=stemming(f)\n",
    "f_vec=vectorizer.transform([f_stem])\n",
    "print(f_vec)\n",
    "\n"
   ]
  },
  {
   "cell_type": "code",
   "execution_count": 34,
   "metadata": {},
   "outputs": [],
   "source": [
    "best_model = joblib.load(\"LogisticRegression_model.pkl\")"
   ]
  },
  {
   "cell_type": "code",
   "execution_count": null,
   "metadata": {},
   "outputs": [
    {
     "name": "stdout",
     "output_type": "stream",
     "text": [
      "The news is real\n"
     ]
    }
   ],
   "source": [
    "def pred(p):\n",
    "    if (p==0):\n",
    "        print('The news is fake')\n",
    "    else:\n",
    "        print('The news is real')\n",
    "\n",
    "pred(best_model.predict(f_vec)[0])"
   ]
  },
  {
   "cell_type": "code",
   "execution_count": 1,
   "metadata": {},
   "outputs": [
    {
     "ename": "NameError",
     "evalue": "name 'stemming' is not defined",
     "output_type": "error",
     "traceback": [
      "\u001b[1;31m---------------------------------------------------------------------------\u001b[0m",
      "\u001b[1;31mNameError\u001b[0m                                 Traceback (most recent call last)",
      "Cell \u001b[1;32mIn[1], line 9\u001b[0m\n\u001b[0;32m      5\u001b[0m \u001b[38;5;66;03m# Input text to test\u001b[39;00m\n\u001b[0;32m      6\u001b[0m f \u001b[38;5;241m=\u001b[39m \u001b[38;5;124m'''\u001b[39m\u001b[38;5;124mAustralia bans social media for children under 16, first country to do so\u001b[39m\n\u001b[0;32m      7\u001b[0m \u001b[38;5;124mThe law forces tech giants from Instagram and Facebook owner Meta to TikTok to stop minors logging in or face fines of up to A$49.5 million (USD32 million).\u001b[39m\u001b[38;5;124m'''\u001b[39m\n\u001b[1;32m----> 9\u001b[0m f\u001b[38;5;241m=\u001b[39m\u001b[43mstemming\u001b[49m(f)\n\u001b[0;32m     11\u001b[0m \u001b[38;5;66;03m# Load the desired pipeline\u001b[39;00m\n\u001b[0;32m     12\u001b[0m pipeline_filename \u001b[38;5;241m=\u001b[39m \u001b[38;5;124m\"\u001b[39m\u001b[38;5;124mLogisticRegression_pipeline.pkl\u001b[39m\u001b[38;5;124m\"\u001b[39m  \u001b[38;5;66;03m# Replace with the model name you want to use\u001b[39;00m\n",
      "\u001b[1;31mNameError\u001b[0m: name 'stemming' is not defined"
     ]
    }
   ],
   "source": [
    "#Direct testing through saved model pipe line\n",
    " \n",
    "import joblib\n",
    "\n",
    "# Input text to test\n",
    "f = '''Australia bans social media for children under 16, first country to do so\n",
    "The law forces tech giants from Instagram and Facebook owner Meta to TikTok to stop minors logging in or face fines of up to A$49.5 million (USD32 million).'''\n",
    "\n",
    "f=stemming(f)\n",
    "\n",
    "# Load the desired pipeline\n",
    "pipeline_filename = \"LogisticRegression_pipeline.pkl\"  # Replace with the model name you want to use\n",
    "pipeline = joblib.load(pipeline_filename)\n",
    "\n",
    "# Predict the label for the new text\n",
    "prediction = pipeline.predict([f])[0]\n",
    "label = \"Real\" if prediction == 1 else \"Fake\"\n",
    "\n",
    "# Print the results\n",
    "print(f\"Prediction for the given news: {label}\")\n"
   ]
  }
 ],
 "metadata": {
  "kaggle": {
   "accelerator": "none",
   "dataSources": [
    {
     "datasetId": 2093157,
     "sourceId": 6641062,
     "sourceType": "datasetVersion"
    },
    {
     "datasetId": 4831777,
     "sourceId": 8165591,
     "sourceType": "datasetVersion"
    }
   ],
   "dockerImageVersionId": 30786,
   "isGpuEnabled": false,
   "isInternetEnabled": true,
   "language": "python",
   "sourceType": "notebook"
  },
  "kernelspec": {
   "display_name": "Python 3",
   "language": "python",
   "name": "python3"
  },
  "language_info": {
   "codemirror_mode": {
    "name": "ipython",
    "version": 3
   },
   "file_extension": ".py",
   "mimetype": "text/x-python",
   "name": "python",
   "nbconvert_exporter": "python",
   "pygments_lexer": "ipython3",
   "version": "3.12.3"
  }
 },
 "nbformat": 4,
 "nbformat_minor": 4
}
